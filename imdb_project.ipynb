{
 "cells": [
  {
   "cell_type": "code",
   "execution_count": 1,
   "metadata": {},
   "outputs": [],
   "source": [
    "import pandas as pd\n",
    "import requests\n",
    "from bs4 import BeautifulSoup"
   ]
  },
  {
   "cell_type": "markdown",
   "metadata": {},
   "source": [
    "# Kütüphaneleri İndirme"
   ]
  },
  {
   "cell_type": "code",
   "execution_count": null,
   "metadata": {},
   "outputs": [],
   "source": [
    "pip install requests"
   ]
  },
  {
   "cell_type": "code",
   "execution_count": null,
   "metadata": {},
   "outputs": [],
   "source": [
    "pip install BeautifulSoup4"
   ]
  },
  {
   "cell_type": "markdown",
   "metadata": {},
   "source": [
    "# Veriyi Çekme"
   ]
  },
  {
   "cell_type": "markdown",
   "metadata": {},
   "source": [
    "### Filmlerin listelendiği sayfadan film linklerinin alınması"
   ]
  },
  {
   "cell_type": "code",
   "execution_count": 2,
   "metadata": {},
   "outputs": [
    {
     "name": "stdout",
     "output_type": "stream",
     "text": [
      "Toplam film sayısı : 250\n"
     ]
    }
   ],
   "source": [
    "url = \"https://www.imdb.com/chart/top/\"\n",
    "response = requests.get(url)\n",
    "html = response.content\n",
    "parsed = BeautifulSoup(html,\"html.parser\")\n",
    "filmler_head = parsed.find(\"tbody\",{\"class\":\"lister-list\"})\n",
    "filmler = filmler_head.find_all(\"tr\")\n",
    "print('Toplam film sayısı : ' + str(len(filmler)))\n",
    "\n",
    "linkler = []\n",
    "\n",
    "for film in filmler:\n",
    "    url = film.find(\"td\",{\"class\":\"titleColumn\"}).find('a')\n",
    "    linkler.append(url['href'])"
   ]
  },
  {
   "cell_type": "markdown",
   "metadata": {},
   "source": [
    "### Tek tek filmlere gidilip gerekli bilgilerin çekilmesi ve listeye eklenmesi"
   ]
  },
  {
   "cell_type": "code",
   "execution_count": 34,
   "metadata": {},
   "outputs": [],
   "source": [
    "filmler = []\n",
    "\n",
    "for link in linkler:\n",
    "    response = requests.get(\"https://www.imdb.com\" + link)\n",
    "    html = response.content\n",
    "    parsed = BeautifulSoup(html,\"html.parser\")\n",
    "    \n",
    "    isim = parsed.find(\"div\",{\"class\":\"TitleBlock__TitleContainer-sc-1nlhx7j-1 jxsVNt\"}).find(\"h1\").text\n",
    "    \n",
    "    yapimYili = parsed.find_all(\"a\",{\"class\":\"ipc-link ipc-link--baseAlt ipc-link--inherit-color TitleBlockMetaData__StyledTextLink-sc-12ein40-1 rgaOW\"})\n",
    "    if len(yapimYili) >= 1 : \n",
    "        yapimYili = yapimYili[0].text \n",
    "    else:\n",
    "        yapimYili = \"\"\n",
    "    \n",
    "    yasSiniri = parsed.find_all(\"span\",{\"class\":\"TitleBlockMetaData__ListItemText-sc-12ein40-2 jedhex\"})\n",
    "    if len(yasSiniri) >= 2 : \n",
    "        yasSiniri = yasSiniri[1].text \n",
    "    else:\n",
    "        yasSiniri = \"\"\n",
    "        \n",
    "    sure = parsed.find_all(\"li\",{\"class\":\"ipc-inline-list__item\"})\n",
    "    if len(sure) >= 3 : \n",
    "        sure = sure[2].text \n",
    "    else:\n",
    "        sure = \"\"\n",
    "    \n",
    "    puan = parsed.find(\"span\",{\"class\":\"AggregateRatingButton__RatingScore-sc-1ll29m0-1 iTLWoV\"}).text\n",
    "    \n",
    "    yonetmen = parsed.find(\"a\",{\"class\":\"ipc-metadata-list-item__list-content-item ipc-metadata-list-item__list-content-item--link\"}).text\n",
    "    \n",
    "    #print(isim.text)\n",
    "    #print(yapimYili.text)\n",
    "    #print(sure.text)\n",
    "    #print(yasSiniri.text)\n",
    "    #print(puan.text)\n",
    "    #print(yonetmen.text)\n",
    "    \n",
    "    filmler.append([isim, yapimYili, yasSiniri, sure, puan, yonetmen])\n",
    "    "
   ]
  },
  {
   "cell_type": "markdown",
   "metadata": {},
   "source": [
    "### Çekilen filmlerin Dataframe de gösterilmesi"
   ]
  },
  {
   "cell_type": "code",
   "execution_count": 35,
   "metadata": {},
   "outputs": [
    {
     "data": {
      "text/html": [
       "<div>\n",
       "<style scoped>\n",
       "    .dataframe tbody tr th:only-of-type {\n",
       "        vertical-align: middle;\n",
       "    }\n",
       "\n",
       "    .dataframe tbody tr th {\n",
       "        vertical-align: top;\n",
       "    }\n",
       "\n",
       "    .dataframe thead th {\n",
       "        text-align: right;\n",
       "    }\n",
       "</style>\n",
       "<table border=\"1\" class=\"dataframe\">\n",
       "  <thead>\n",
       "    <tr style=\"text-align: right;\">\n",
       "      <th></th>\n",
       "      <th>İsim</th>\n",
       "      <th>Yapım Yılı</th>\n",
       "      <th>Yaş Sınırı</th>\n",
       "      <th>Süre</th>\n",
       "      <th>Puan</th>\n",
       "      <th>Yönetmen</th>\n",
       "    </tr>\n",
       "  </thead>\n",
       "  <tbody>\n",
       "    <tr>\n",
       "      <th>0</th>\n",
       "      <td>The Shawshank Redemption</td>\n",
       "      <td>1994</td>\n",
       "      <td>13+</td>\n",
       "      <td>2h 22min</td>\n",
       "      <td>9.3</td>\n",
       "      <td>Frank Darabont</td>\n",
       "    </tr>\n",
       "    <tr>\n",
       "      <th>1</th>\n",
       "      <td>The Godfather</td>\n",
       "      <td>1972</td>\n",
       "      <td>R</td>\n",
       "      <td>2h 55min</td>\n",
       "      <td>9.2</td>\n",
       "      <td>Francis Ford Coppola</td>\n",
       "    </tr>\n",
       "    <tr>\n",
       "      <th>2</th>\n",
       "      <td>The Godfather: Part II</td>\n",
       "      <td>1974</td>\n",
       "      <td>R</td>\n",
       "      <td>3h 22min</td>\n",
       "      <td>9.0</td>\n",
       "      <td>Francis Ford Coppola</td>\n",
       "    </tr>\n",
       "    <tr>\n",
       "      <th>3</th>\n",
       "      <td>The Dark Knight</td>\n",
       "      <td>2008</td>\n",
       "      <td>PG-13</td>\n",
       "      <td>2h 32min</td>\n",
       "      <td>9.0</td>\n",
       "      <td>Christopher Nolan</td>\n",
       "    </tr>\n",
       "    <tr>\n",
       "      <th>4</th>\n",
       "      <td>12 Angry Men</td>\n",
       "      <td>1957</td>\n",
       "      <td>Approved</td>\n",
       "      <td>1h 36min</td>\n",
       "      <td>9.0</td>\n",
       "      <td>Sidney Lumet</td>\n",
       "    </tr>\n",
       "    <tr>\n",
       "      <th>...</th>\n",
       "      <td>...</td>\n",
       "      <td>...</td>\n",
       "      <td>...</td>\n",
       "      <td>...</td>\n",
       "      <td>...</td>\n",
       "      <td>...</td>\n",
       "    </tr>\n",
       "    <tr>\n",
       "      <th>245</th>\n",
       "      <td>Sunrise: A Song of Two Humans</td>\n",
       "      <td>1927</td>\n",
       "      <td>Passed</td>\n",
       "      <td>1h 34min</td>\n",
       "      <td>8.1</td>\n",
       "      <td>F.W. Murnau</td>\n",
       "    </tr>\n",
       "    <tr>\n",
       "      <th>246</th>\n",
       "      <td>Paris, Texas</td>\n",
       "      <td>1984</td>\n",
       "      <td>R</td>\n",
       "      <td>2h 25min</td>\n",
       "      <td>8.1</td>\n",
       "      <td>Wim Wenders</td>\n",
       "    </tr>\n",
       "    <tr>\n",
       "      <th>247</th>\n",
       "      <td>Le notti di Cabiria</td>\n",
       "      <td>1957</td>\n",
       "      <td>Not Rated</td>\n",
       "      <td>1h 50min</td>\n",
       "      <td>8.1</td>\n",
       "      <td>Federico Fellini</td>\n",
       "    </tr>\n",
       "    <tr>\n",
       "      <th>248</th>\n",
       "      <td>Kumonosu-jô</td>\n",
       "      <td>1957</td>\n",
       "      <td>Not Rated</td>\n",
       "      <td>1h 50min</td>\n",
       "      <td>8.1</td>\n",
       "      <td>Akira Kurosawa</td>\n",
       "    </tr>\n",
       "    <tr>\n",
       "      <th>249</th>\n",
       "      <td>Kimetsu no Yaiba: Mugen Ressha-Hen</td>\n",
       "      <td>2020</td>\n",
       "      <td>18+</td>\n",
       "      <td>1h 57min</td>\n",
       "      <td>8.3</td>\n",
       "      <td>Haruo Sotozaki</td>\n",
       "    </tr>\n",
       "  </tbody>\n",
       "</table>\n",
       "<p>250 rows × 6 columns</p>\n",
       "</div>"
      ],
      "text/plain": [
       "                                   İsim Yapım Yılı Yaş Sınırı      Süre Puan  \\\n",
       "0              The Shawshank Redemption       1994        13+  2h 22min  9.3   \n",
       "1                         The Godfather       1972          R  2h 55min  9.2   \n",
       "2                The Godfather: Part II       1974          R  3h 22min  9.0   \n",
       "3                       The Dark Knight       2008      PG-13  2h 32min  9.0   \n",
       "4                          12 Angry Men       1957   Approved  1h 36min  9.0   \n",
       "..                                  ...        ...        ...       ...  ...   \n",
       "245       Sunrise: A Song of Two Humans       1927     Passed  1h 34min  8.1   \n",
       "246                        Paris, Texas       1984          R  2h 25min  8.1   \n",
       "247                 Le notti di Cabiria       1957  Not Rated  1h 50min  8.1   \n",
       "248                         Kumonosu-jô       1957  Not Rated  1h 50min  8.1   \n",
       "249  Kimetsu no Yaiba: Mugen Ressha-Hen       2020        18+  1h 57min  8.3   \n",
       "\n",
       "                 Yönetmen  \n",
       "0          Frank Darabont  \n",
       "1    Francis Ford Coppola  \n",
       "2    Francis Ford Coppola  \n",
       "3       Christopher Nolan  \n",
       "4            Sidney Lumet  \n",
       "..                    ...  \n",
       "245           F.W. Murnau  \n",
       "246           Wim Wenders  \n",
       "247      Federico Fellini  \n",
       "248        Akira Kurosawa  \n",
       "249        Haruo Sotozaki  \n",
       "\n",
       "[250 rows x 6 columns]"
      ]
     },
     "execution_count": 35,
     "metadata": {},
     "output_type": "execute_result"
    }
   ],
   "source": [
    "df = pd.DataFrame(filmler,columns = [\"İsim\",\"Yapım Yılı\",\"Yaş Sınırı\",\"Süre\",\"Puan\",\"Yönetmen\"])\n",
    "df"
   ]
  },
  {
   "cell_type": "markdown",
   "metadata": {},
   "source": [
    "### Oluşturulan Dataframe'in excel dosyası olarak kaydedilmesi"
   ]
  },
  {
   "cell_type": "code",
   "execution_count": 37,
   "metadata": {},
   "outputs": [],
   "source": [
    "df.to_excel('imdb_top250.xlsx')"
   ]
  }
 ],
 "metadata": {
  "kernelspec": {
   "display_name": "Python 3",
   "language": "python",
   "name": "python3"
  },
  "language_info": {
   "codemirror_mode": {
    "name": "ipython",
    "version": 3
   },
   "file_extension": ".py",
   "mimetype": "text/x-python",
   "name": "python",
   "nbconvert_exporter": "python",
   "pygments_lexer": "ipython3",
   "version": "3.8.5"
  }
 },
 "nbformat": 4,
 "nbformat_minor": 4
}
